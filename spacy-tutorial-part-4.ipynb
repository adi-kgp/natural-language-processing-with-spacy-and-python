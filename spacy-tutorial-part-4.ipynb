{
 "cells": [
  {
   "cell_type": "markdown",
   "id": "84c3dd8f-fc1c-4815-89eb-8469a8269b0e",
   "metadata": {},
   "source": [
    "## Spacy Tutorial Part 4"
   ]
  },
  {
   "cell_type": "code",
   "execution_count": 1,
   "id": "b9b86d6f-8c2b-4a72-bf52-c98bab09b0fe",
   "metadata": {},
   "outputs": [],
   "source": [
    "import spacy\n",
    "from spacy.matcher import Matcher"
   ]
  },
  {
   "cell_type": "code",
   "execution_count": 2,
   "id": "170191d0-19e5-4e5e-bd9c-bdbb3e67a7d4",
   "metadata": {},
   "outputs": [],
   "source": [
    "nlp = spacy.load(\"en_core_web_sm\")"
   ]
  },
  {
   "cell_type": "code",
   "execution_count": 3,
   "id": "d2c4b1dd-adaf-4ce0-b25d-13453ff35538",
   "metadata": {},
   "outputs": [],
   "source": [
    "matcher = Matcher(nlp.vocab)\n",
    "pattern = [{\"LIKE_EMAIL\": True}]\n",
    "matcher.add(\"EMAIL_ADDRESS\", [pattern])"
   ]
  },
  {
   "cell_type": "code",
   "execution_count": 4,
   "id": "d5f74bd4-fc57-4f2b-ac73-d60e82b04782",
   "metadata": {},
   "outputs": [],
   "source": [
    "doc = nlp(\"This is my email address: wmattingly@aol.com\")\n",
    "matches = matcher(doc)"
   ]
  },
  {
   "cell_type": "code",
   "execution_count": 5,
   "id": "be4ea90b-752f-42c3-96c4-5bccbd942aaa",
   "metadata": {},
   "outputs": [
    {
     "name": "stdout",
     "output_type": "stream",
     "text": [
      "[(16571425990740197027, 6, 7)]\n"
     ]
    }
   ],
   "source": [
    "print(matches)  # lexem, start_token, end_token"
   ]
  },
  {
   "cell_type": "code",
   "execution_count": 7,
   "id": "6f677089-698a-4ad2-9a96-895c3e6749a3",
   "metadata": {},
   "outputs": [
    {
     "name": "stdout",
     "output_type": "stream",
     "text": [
      "EMAIL_ADDRESS\n"
     ]
    }
   ],
   "source": [
    "print (nlp.vocab[matches[0][0]].text)"
   ]
  },
  {
   "cell_type": "code",
   "execution_count": null,
   "id": "5f860962-cb97-48a9-be5e-41c04204501a",
   "metadata": {},
   "outputs": [],
   "source": []
  },
  {
   "cell_type": "code",
   "execution_count": null,
   "id": "a6027fb3-1f20-4ec6-acf0-e1b9c211fb2b",
   "metadata": {},
   "outputs": [],
   "source": []
  },
  {
   "cell_type": "code",
   "execution_count": null,
   "id": "fe3e47da-159e-42b9-b4c8-55543fea6f78",
   "metadata": {},
   "outputs": [],
   "source": []
  },
  {
   "cell_type": "code",
   "execution_count": null,
   "id": "733ad0b8-ce63-4fe4-b419-4d76be4ec774",
   "metadata": {},
   "outputs": [],
   "source": []
  },
  {
   "cell_type": "code",
   "execution_count": null,
   "id": "4184c501-4f59-4f15-ad47-07f9813b5588",
   "metadata": {},
   "outputs": [],
   "source": []
  }
 ],
 "metadata": {
  "kernelspec": {
   "display_name": "Python 3 (ipykernel)",
   "language": "python",
   "name": "python3"
  },
  "language_info": {
   "codemirror_mode": {
    "name": "ipython",
    "version": 3
   },
   "file_extension": ".py",
   "mimetype": "text/x-python",
   "name": "python",
   "nbconvert_exporter": "python",
   "pygments_lexer": "ipython3",
   "version": "3.12.2"
  }
 },
 "nbformat": 4,
 "nbformat_minor": 5
}
